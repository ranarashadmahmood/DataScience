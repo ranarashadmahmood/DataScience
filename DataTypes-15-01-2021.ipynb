{
 "cells": [
  {
   "cell_type": "code",
   "execution_count": 1,
   "metadata": {},
   "outputs": [
    {
     "name": "stdout",
     "output_type": "stream",
     "text": [
      "26\n"
     ]
    }
   ],
   "source": [
    "# Integers\n",
    "age = 26\n",
    "print(age)"
   ]
  },
  {
   "cell_type": "code",
   "execution_count": 2,
   "metadata": {},
   "outputs": [
    {
     "name": "stdout",
     "output_type": "stream",
     "text": [
      "26\n",
      "3.14159\n",
      "c\n",
      "Rashad Mahmood\n",
      "False\n",
      "True\n",
      "<class 'int'>\n",
      "<class 'float'>\n",
      "<class 'str'>\n",
      "<class 'str'>\n",
      "<class 'bool'>\n",
      "<class 'bool'>\n"
     ]
    }
   ],
   "source": [
    "pi = 3.14159\n",
    "c = 'c'\n",
    "s = 'Rashad Mahmood'\n",
    "q = not 'True'\n",
    "print(age)\n",
    "print(pi)\n",
    "print(c)\n",
    "print(s)\n",
    "print(q)\n",
    "_y = True\n",
    "print(_y)\n",
    "# Note Variable Assignment--->Left to Right---No need to declare its data type in python\n",
    "print(type(age))\n",
    "print(type(pi))\n",
    "print(type(c))\n",
    "print(type(s))\n",
    "print(type(q))\n",
    "print(type(_y))"
   ]
  },
  {
   "cell_type": "code",
   "execution_count": 3,
   "metadata": {},
   "outputs": [
    {
     "name": "stdout",
     "output_type": "stream",
     "text": [
      "1 2\n"
     ]
    }
   ],
   "source": [
    "a, b, _ = 1, 2, 3\n",
    "print(a, b)"
   ]
  },
  {
   "cell_type": "code",
   "execution_count": 4,
   "metadata": {},
   "outputs": [
    {
     "name": "stdout",
     "output_type": "stream",
     "text": [
      "10 10 10\n"
     ]
    }
   ],
   "source": [
    "a = b = c = 10\n",
    "print(a, b, c)"
   ]
  },
  {
   "cell_type": "code",
   "execution_count": 5,
   "metadata": {},
   "outputs": [
    {
     "name": "stdout",
     "output_type": "stream",
     "text": [
      "10 2000 10\n"
     ]
    }
   ],
   "source": [
    "# a,b,c are different names given to the same object. However, assigning aa different object to one of\n",
    "# them will not affect others. variable always holds latest values assigned.\n",
    "b = 2000\n",
    "print(a, b, c)"
   ]
  },
  {
   "cell_type": "code",
   "execution_count": 15,
   "metadata": {},
   "outputs": [
    {
     "name": "stdout",
     "output_type": "stream",
     "text": [
      "[7, 8, 9] [7, 8, 9]\n",
      "[13, 8, 9] [7, 8, 9]\n",
      "[13, 786, 9] [7, 8, 9]\n",
      "[1, 2, 3, 4, 6, [4, 5, 6]]\n",
      "3\n",
      "[4, 5, 6]\n",
      "6\n"
     ]
    }
   ],
   "source": [
    "# Above rule also apply to Mutable data types like list/dict\n",
    "# list\n",
    "x = y = [7, 8, 9]\n",
    "print(x, y)\n",
    "x = [13, 8, 9]\n",
    "print(x, y)\n",
    "x[1] = 786\n",
    "print(x, y)\n",
    "# Nested List\n",
    "z = [1, 2, 3, 4, 6, [4, 5, 6]]\n",
    "print(z)  \n",
    "print(z[2]) \n",
    "print(z[5])\n",
    "print(z[5][2])"
   ]
  },
  {
   "cell_type": "code",
   "execution_count": null,
   "metadata": {},
   "outputs": [],
   "source": []
  },
  {
   "cell_type": "code",
   "execution_count": null,
   "metadata": {},
   "outputs": [],
   "source": []
  }
 ],
 "metadata": {
  "kernelspec": {
   "display_name": "Python 3",
   "language": "python",
   "name": "python3"
  },
  "language_info": {
   "codemirror_mode": {
    "name": "ipython",
    "version": 3
   },
   "file_extension": ".py",
   "mimetype": "text/x-python",
   "name": "python",
   "nbconvert_exporter": "python",
   "pygments_lexer": "ipython3",
   "version": "3.8.5"
  }
 },
 "nbformat": 4,
 "nbformat_minor": 4
}
